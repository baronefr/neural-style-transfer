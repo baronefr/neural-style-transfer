{
 "cells": [
  {
   "cell_type": "markdown",
   "metadata": {},
   "source": [
    "# **NST with Adaptive Instance Normalization** | Training\n",
    "\n",
    "Project for *Neural Networks and Deep Learning*, University of Padua, A.Y. 2022/23\n",
    "\n",
    "**Students** | Francesco Pio Barone, Daniele Ninni, Paolo Zinesi"
   ]
  },
  {
   "cell_type": "code",
   "execution_count": 1,
   "metadata": {
    "execution": {
     "iopub.execute_input": "2023-02-10T13:30:33.587450Z",
     "iopub.status.busy": "2023-02-10T13:30:33.586840Z",
     "iopub.status.idle": "2023-02-10T13:30:34.813071Z",
     "shell.execute_reply": "2023-02-10T13:30:34.812357Z",
     "shell.execute_reply.started": "2023-02-10T13:30:33.587380Z"
    },
    "tags": []
   },
   "outputs": [],
   "source": [
    "import os\n",
    "import glob\n",
    "from PIL import Image\n",
    "import inspect\n",
    "from tqdm import tqdm\n",
    "import matplotlib.pyplot as plt\n",
    "\n",
    "import torch\n",
    "import torch.nn as nn\n",
    "from torch.utils.data import Dataset, DataLoader\n",
    "from torchvision.transforms import Compose, Resize, RandomCrop, ToTensor\n",
    "\n",
    "import huang_utils"
   ]
  },
  {
   "cell_type": "code",
   "execution_count": 2,
   "metadata": {
    "execution": {
     "iopub.execute_input": "2023-02-10T13:30:34.814716Z",
     "iopub.status.busy": "2023-02-10T13:30:34.814442Z",
     "iopub.status.idle": "2023-02-10T13:30:34.822838Z",
     "shell.execute_reply": "2023-02-10T13:30:34.822102Z",
     "shell.execute_reply.started": "2023-02-10T13:30:34.814696Z"
    }
   },
   "outputs": [
    {
     "data": {
      "text/plain": [
       "<torch._C.Generator at 0x7f57b99b7030>"
      ]
     },
     "execution_count": 2,
     "metadata": {},
     "output_type": "execute_result"
    }
   ],
   "source": [
    "# reproducibility\n",
    "torch.manual_seed(0)"
   ]
  },
  {
   "cell_type": "code",
   "execution_count": 3,
   "metadata": {
    "execution": {
     "iopub.execute_input": "2023-02-10T13:30:34.823925Z",
     "iopub.status.busy": "2023-02-10T13:30:34.823722Z",
     "iopub.status.idle": "2023-02-10T13:30:34.827535Z",
     "shell.execute_reply": "2023-02-10T13:30:34.826920Z",
     "shell.execute_reply.started": "2023-02-10T13:30:34.823906Z"
    }
   },
   "outputs": [
    {
     "name": "stdout",
     "output_type": "stream",
     "text": [
      "Selected device: cuda\n"
     ]
    }
   ],
   "source": [
    "# check if the GPU is available\n",
    "device = torch.device('cuda' if torch.cuda.is_available() else 'cpu')\n",
    "print(f'Selected device: {device}')"
   ]
  },
  {
   "cell_type": "markdown",
   "metadata": {},
   "source": [
    "### 1 - Dataset"
   ]
  },
  {
   "cell_type": "markdown",
   "metadata": {},
   "source": [
    "#### 1.1 - Download the datasets"
   ]
  },
  {
   "cell_type": "code",
   "execution_count": 4,
   "metadata": {
    "execution": {
     "iopub.execute_input": "2023-02-10T13:30:34.829465Z",
     "iopub.status.busy": "2023-02-10T13:30:34.829275Z",
     "iopub.status.idle": "2023-02-10T13:30:34.867878Z",
     "shell.execute_reply": "2023-02-10T13:30:34.867256Z",
     "shell.execute_reply.started": "2023-02-10T13:30:34.829447Z"
    }
   },
   "outputs": [],
   "source": [
    "content_name = 'pascal_voc'\n",
    "style_name   = 'artbench'\n",
    "\n",
    "if content_name == 'huang_content':\n",
    "    content_path = f'./data/{content_name}/'\n",
    "    if not os.path.exists('./data/huang_content'):\n",
    "        !git clone https://github.com/xunhuang1995/AdaIN-style.git\n",
    "        !mv AdaIN-style/input/content data\n",
    "        !rm -r AdaIN-style\n",
    "        !mv data/content data/huang_content\n",
    "    \n",
    "if style_name == 'huang_style':\n",
    "    style_path = f'./data/{style_name}/'\n",
    "    if not os.path.exists('./data/huang_style'):\n",
    "        !git clone https://github.com/xunhuang1995/AdaIN-style.git\n",
    "        !mv AdaIN-style/input/style data\n",
    "        !rm -r AdaIN-style\n",
    "        !mv data/style data/huang_style\n",
    "\n",
    "if content_name == 'pascal_voc':\n",
    "    content_path = f'./data/{content_name}/'\n",
    "    if not os.path.exists('./data/pascal_voc'):\n",
    "        !wget http://host.robots.ox.ac.uk/pascal/VOC/voc2012/VOCtrainval_11-May-2012.tar\n",
    "        !tar -xf VOCtrainval_11-May-2012.tar\n",
    "        !mv VOCdevkit/VOC2012/JPEGImages data\n",
    "        !rm -r VOCtrainval_11-May-2012.tar VOCdevkit\n",
    "        !mv data/JPEGImages data/pascal_voc\n",
    "\n",
    "if style_name == 'artbench':\n",
    "    style_path = f'./data/{style_name}/**/*.jpg'\n",
    "    if not os.path.exists('./data/artbench'):\n",
    "        !wget https://artbench.eecs.berkeley.edu/files/artbench-10-imagefolder.tar\n",
    "        !tar -xf artbench-10-imagefolder.tar\n",
    "        !mv artbench-10-imagefolder data\n",
    "        !rm -r artbench-10-imagefolder.tar\n",
    "        !mv data/artbench-10-imagefolder data/artbench"
   ]
  },
  {
   "cell_type": "markdown",
   "metadata": {},
   "source": [
    "#### 1.2 - Define the dataset transform"
   ]
  },
  {
   "cell_type": "code",
   "execution_count": 5,
   "metadata": {
    "execution": {
     "iopub.execute_input": "2023-02-10T13:30:34.868919Z",
     "iopub.status.busy": "2023-02-10T13:30:34.868732Z",
     "iopub.status.idle": "2023-02-10T13:30:34.871915Z",
     "shell.execute_reply": "2023-02-10T13:30:34.871241Z",
     "shell.execute_reply.started": "2023-02-10T13:30:34.868902Z"
    }
   },
   "outputs": [],
   "source": [
    "train_transform = Compose([\n",
    "    Resize(512),\n",
    "    RandomCrop(256),\n",
    "    ToTensor()\n",
    "])"
   ]
  },
  {
   "cell_type": "markdown",
   "metadata": {},
   "source": [
    "#### 1.3 - Define the `ImageDataset` class"
   ]
  },
  {
   "cell_type": "code",
   "execution_count": 6,
   "metadata": {
    "execution": {
     "iopub.execute_input": "2023-02-10T13:30:34.872895Z",
     "iopub.status.busy": "2023-02-10T13:30:34.872710Z",
     "iopub.status.idle": "2023-02-10T13:30:34.876729Z",
     "shell.execute_reply": "2023-02-10T13:30:34.875997Z",
     "shell.execute_reply.started": "2023-02-10T13:30:34.872879Z"
    }
   },
   "outputs": [],
   "source": [
    "class ImageDataset(Dataset):\n",
    "    def __init__(self, root, transform=None):\n",
    "        self.paths = glob.glob(f'{root}*')\n",
    "        self.transform = transform\n",
    "\n",
    "    def __len__(self):\n",
    "        return len(self.paths)\n",
    "\n",
    "    def __getitem__(self, idx):\n",
    "        path = self.paths[idx]\n",
    "        img = Image.open(path).convert('RGB')\n",
    "        if self.transform:\n",
    "            img = self.transform(img)\n",
    "        return img"
   ]
  },
  {
   "cell_type": "markdown",
   "metadata": {},
   "source": [
    "#### 1.4 - Define the datasets"
   ]
  },
  {
   "cell_type": "code",
   "execution_count": 7,
   "metadata": {
    "execution": {
     "iopub.execute_input": "2023-02-10T13:30:34.878156Z",
     "iopub.status.busy": "2023-02-10T13:30:34.877921Z",
     "iopub.status.idle": "2023-02-10T13:30:36.755804Z",
     "shell.execute_reply": "2023-02-10T13:30:36.755071Z",
     "shell.execute_reply.started": "2023-02-10T13:30:34.878129Z"
    }
   },
   "outputs": [],
   "source": [
    "content_dataset = ImageDataset(content_path, train_transform)\n",
    "style_dataset   = ImageDataset(style_path,   train_transform)"
   ]
  },
  {
   "cell_type": "markdown",
   "metadata": {},
   "source": [
    "#### 1.5 - Define the dataloaders"
   ]
  },
  {
   "cell_type": "code",
   "execution_count": 8,
   "metadata": {
    "execution": {
     "iopub.execute_input": "2023-02-10T13:30:36.757225Z",
     "iopub.status.busy": "2023-02-10T13:30:36.757007Z",
     "iopub.status.idle": "2023-02-10T13:30:37.133344Z",
     "shell.execute_reply": "2023-02-10T13:30:37.131773Z",
     "shell.execute_reply.started": "2023-02-10T13:30:36.757206Z"
    }
   },
   "outputs": [],
   "source": [
    "batch_size = 32\n",
    "content_dataloader = DataLoader(content_dataset, batch_size, shuffle=True, num_workers=os.cpu_count(), drop_last=True)\n",
    "style_dataloader   = DataLoader(style_dataset,   batch_size, shuffle=True, num_workers=os.cpu_count(), drop_last=True)\n",
    "\n",
    "# iterators\n",
    "content_iter = iter(content_dataloader)\n",
    "style_iter   = iter(style_dataloader)"
   ]
  },
  {
   "cell_type": "markdown",
   "metadata": {},
   "source": [
    "### 2 - Architecture"
   ]
  },
  {
   "cell_type": "markdown",
   "metadata": {},
   "source": [
    "#### 2.1 - Encoder"
   ]
  },
  {
   "cell_type": "code",
   "execution_count": 9,
   "metadata": {
    "execution": {
     "iopub.execute_input": "2023-02-10T13:30:37.136272Z",
     "iopub.status.busy": "2023-02-10T13:30:37.135877Z",
     "iopub.status.idle": "2023-02-10T13:30:37.313219Z",
     "shell.execute_reply": "2023-02-10T13:30:37.311853Z",
     "shell.execute_reply.started": "2023-02-10T13:30:37.136235Z"
    },
    "tags": []
   },
   "outputs": [
    {
     "data": {
      "text/plain": [
       "Sequential(\n",
       "  (0): Conv2d(3, 3, kernel_size=(1, 1), stride=(1, 1))\n",
       "  (1): ReflectionPad2d((1, 1, 1, 1))\n",
       "  (2): Conv2d(3, 64, kernel_size=(3, 3), stride=(1, 1))\n",
       "  (3): ReLU()\n",
       "  (4): ReflectionPad2d((1, 1, 1, 1))\n",
       "  (5): Conv2d(64, 64, kernel_size=(3, 3), stride=(1, 1))\n",
       "  (6): ReLU()\n",
       "  (7): MaxPool2d(kernel_size=2, stride=2, padding=0, dilation=1, ceil_mode=False)\n",
       "  (8): ReflectionPad2d((1, 1, 1, 1))\n",
       "  (9): Conv2d(64, 128, kernel_size=(3, 3), stride=(1, 1))\n",
       "  (10): ReLU()\n",
       "  (11): ReflectionPad2d((1, 1, 1, 1))\n",
       "  (12): Conv2d(128, 128, kernel_size=(3, 3), stride=(1, 1))\n",
       "  (13): ReLU()\n",
       "  (14): MaxPool2d(kernel_size=2, stride=2, padding=0, dilation=1, ceil_mode=False)\n",
       "  (15): ReflectionPad2d((1, 1, 1, 1))\n",
       "  (16): Conv2d(128, 256, kernel_size=(3, 3), stride=(1, 1))\n",
       "  (17): ReLU()\n",
       "  (18): ReflectionPad2d((1, 1, 1, 1))\n",
       "  (19): Conv2d(256, 256, kernel_size=(3, 3), stride=(1, 1))\n",
       "  (20): ReLU()\n",
       "  (21): ReflectionPad2d((1, 1, 1, 1))\n",
       "  (22): Conv2d(256, 256, kernel_size=(3, 3), stride=(1, 1))\n",
       "  (23): ReLU()\n",
       "  (24): ReflectionPad2d((1, 1, 1, 1))\n",
       "  (25): Conv2d(256, 256, kernel_size=(3, 3), stride=(1, 1))\n",
       "  (26): ReLU()\n",
       "  (27): MaxPool2d(kernel_size=2, stride=2, padding=0, dilation=1, ceil_mode=False)\n",
       "  (28): ReflectionPad2d((1, 1, 1, 1))\n",
       "  (29): Conv2d(256, 512, kernel_size=(3, 3), stride=(1, 1))\n",
       "  (30): ReLU()\n",
       ")"
      ]
     },
     "execution_count": 9,
     "metadata": {},
     "output_type": "execute_result"
    }
   ],
   "source": [
    "huang_utils.build_encoder()"
   ]
  },
  {
   "cell_type": "markdown",
   "metadata": {},
   "source": [
    "#### 2.2 - Decoder"
   ]
  },
  {
   "cell_type": "code",
   "execution_count": 10,
   "metadata": {
    "execution": {
     "iopub.execute_input": "2023-02-10T13:30:37.315723Z",
     "iopub.status.busy": "2023-02-10T13:30:37.315296Z",
     "iopub.status.idle": "2023-02-10T13:30:37.367389Z",
     "shell.execute_reply": "2023-02-10T13:30:37.366571Z",
     "shell.execute_reply.started": "2023-02-10T13:30:37.315689Z"
    },
    "tags": []
   },
   "outputs": [
    {
     "data": {
      "text/plain": [
       "Sequential(\n",
       "  (0): ReflectionPad2d((1, 1, 1, 1))\n",
       "  (1): Conv2d(512, 256, kernel_size=(3, 3), stride=(1, 1))\n",
       "  (2): ReLU()\n",
       "  (3): Upsample(scale_factor=2.0, mode=nearest)\n",
       "  (4): ReflectionPad2d((1, 1, 1, 1))\n",
       "  (5): Conv2d(256, 256, kernel_size=(3, 3), stride=(1, 1))\n",
       "  (6): ReLU()\n",
       "  (7): ReflectionPad2d((1, 1, 1, 1))\n",
       "  (8): Conv2d(256, 256, kernel_size=(3, 3), stride=(1, 1))\n",
       "  (9): ReLU()\n",
       "  (10): ReflectionPad2d((1, 1, 1, 1))\n",
       "  (11): Conv2d(256, 256, kernel_size=(3, 3), stride=(1, 1))\n",
       "  (12): ReLU()\n",
       "  (13): ReflectionPad2d((1, 1, 1, 1))\n",
       "  (14): Conv2d(256, 128, kernel_size=(3, 3), stride=(1, 1))\n",
       "  (15): ReLU()\n",
       "  (16): Upsample(scale_factor=2.0, mode=nearest)\n",
       "  (17): ReflectionPad2d((1, 1, 1, 1))\n",
       "  (18): Conv2d(128, 128, kernel_size=(3, 3), stride=(1, 1))\n",
       "  (19): ReLU()\n",
       "  (20): ReflectionPad2d((1, 1, 1, 1))\n",
       "  (21): Conv2d(128, 64, kernel_size=(3, 3), stride=(1, 1))\n",
       "  (22): ReLU()\n",
       "  (23): Upsample(scale_factor=2.0, mode=nearest)\n",
       "  (24): ReflectionPad2d((1, 1, 1, 1))\n",
       "  (25): Conv2d(64, 64, kernel_size=(3, 3), stride=(1, 1))\n",
       "  (26): ReLU()\n",
       "  (27): ReflectionPad2d((1, 1, 1, 1))\n",
       "  (28): Conv2d(64, 3, kernel_size=(3, 3), stride=(1, 1))\n",
       ")"
      ]
     },
     "execution_count": 10,
     "metadata": {},
     "output_type": "execute_result"
    }
   ],
   "source": [
    "huang_utils.build_decoder()"
   ]
  },
  {
   "cell_type": "markdown",
   "metadata": {},
   "source": [
    "#### 2.3 - Adaptive Instance Normalization layer `AdaIN`"
   ]
  },
  {
   "cell_type": "code",
   "execution_count": 11,
   "metadata": {
    "execution": {
     "iopub.execute_input": "2023-02-10T13:30:37.369052Z",
     "iopub.status.busy": "2023-02-10T13:30:37.368170Z",
     "iopub.status.idle": "2023-02-10T13:30:37.424617Z",
     "shell.execute_reply": "2023-02-10T13:30:37.423641Z",
     "shell.execute_reply.started": "2023-02-10T13:30:37.369024Z"
    }
   },
   "outputs": [
    {
     "name": "stdout",
     "output_type": "stream",
     "text": [
      "def get_mean_std(tensor, eps=1e-5):\n",
      "    \n",
      "    assert len(tensor.size()) == 4\n",
      "    \n",
      "    mean = torch.mean(tensor, dim=[2,3], keepdim=True)\n",
      "    var  = torch.std(tensor, dim=[2,3], keepdim=True) + eps\n",
      "    std  = torch.sqrt(var)\n",
      "\n",
      "    return mean, std\n",
      "\n",
      "class AdaIN(nn.Module):\n",
      "    \"\"\" Implementation of Adaptive Instance Normalization (AdaIN) layer as described in the paper [Huang17].\"\"\"\n",
      "    \n",
      "    def __init__(self):\n",
      "        super().__init__()\n",
      "\n",
      "    def forward(self, content, style):\n",
      "        content_mean, content_std = get_mean_std(content)\n",
      "        style_mean,   style_std   = get_mean_std(style)\n",
      "        return style_std * (content - content_mean) / content_std + style_mean\n",
      "\n"
     ]
    }
   ],
   "source": [
    "print(inspect.getsource(huang_utils.get_mean_std))\n",
    "print(inspect.getsource(huang_utils.AdaIN))"
   ]
  },
  {
   "cell_type": "markdown",
   "metadata": {},
   "source": [
    "#### 2.4 - Define the `HuangNet_train` class"
   ]
  },
  {
   "cell_type": "code",
   "execution_count": 12,
   "metadata": {
    "execution": {
     "iopub.execute_input": "2023-02-10T13:30:37.426172Z",
     "iopub.status.busy": "2023-02-10T13:30:37.425856Z",
     "iopub.status.idle": "2023-02-10T13:30:37.440265Z",
     "shell.execute_reply": "2023-02-10T13:30:37.439466Z",
     "shell.execute_reply.started": "2023-02-10T13:30:37.426141Z"
    }
   },
   "outputs": [],
   "source": [
    "class HuangNet_train(nn.Module):\n",
    "\n",
    "    def __init__(self, encoder, decoder, loss_fn=nn.MSELoss(), style_weight=1e-1):\n",
    "\n",
    "        super(HuangNet_train, self).__init__()\n",
    "\n",
    "        # encoder\n",
    "        self.encoder = encoder\n",
    "        \n",
    "        # decoder\n",
    "        self.decoder = decoder\n",
    "        \n",
    "        # AdaIN layer\n",
    "        self.adain = huang_utils.AdaIN()\n",
    "\n",
    "        # loss function\n",
    "        self.loss_fn = loss_fn\n",
    "        \n",
    "        # style loss weight\n",
    "        self.style_weight = style_weight\n",
    "        \n",
    "        # content loss history\n",
    "        self.loss_content_hist = []\n",
    "        \n",
    "        # style loss history\n",
    "        self.loss_style_hist = []\n",
    "            \n",
    "        # indexes of the encoder blocks\n",
    "        self.encoder_blocks = [\n",
    "            ( 0, 4), # input   -> relu1_1\n",
    "            ( 4,11), # relu1_1 -> relu2_1\n",
    "            (11,18), # relu2_1 -> relu3_1\n",
    "            (18,31)  # relu3_1 -> relu4_1\n",
    "        ]\n",
    "        \n",
    "        # freeze the encoder                \n",
    "        for params in self.encoder.parameters():\n",
    "            params.requires_grad = False\n",
    "\n",
    "    # get [relu1_1, relu2_1, relu3_1, relu4_1]\n",
    "    def get_intermediate_feats(self, input):\n",
    "        results = [input]\n",
    "        for (i,j) in self.encoder_blocks:\n",
    "            results.append(self.encoder[i:j](results[-1]))\n",
    "        return results[1:]\n",
    "\n",
    "    # get content loss\n",
    "    def get_loss_content(self, input, target):\n",
    "        return self.loss_fn(input, target)\n",
    "\n",
    "    # get style loss\n",
    "    def get_loss_style(self, inputs, targets):\n",
    "        loss_style = 0\n",
    "        for input, target in zip(inputs, targets):\n",
    "            input_mean,  input_std  = huang_utils.get_mean_std(input)\n",
    "            target_mean, target_std = huang_utils.get_mean_std(target)\n",
    "            loss_style += self.loss_fn(input_mean, target_mean) + self.loss_fn(input_std, target_std)\n",
    "        return loss_style\n",
    "        \n",
    "    # forward pass\n",
    "    def forward(self, content, style):\n",
    "        \n",
    "        # content feature maps\n",
    "        content_feat = self.encoder(content)\n",
    "        \n",
    "        # style feature maps\n",
    "        style_feats = self.get_intermediate_feats(style)\n",
    "        \n",
    "        # target feature maps\n",
    "        t = self.adain(content_feat, style_feats[-1])\n",
    "        \n",
    "        # stylized image\n",
    "        T = self.decoder(t)\n",
    "        \n",
    "        # stylized image feature maps\n",
    "        T_feats = self.get_intermediate_feats(T)\n",
    "        \n",
    "        # content loss\n",
    "        loss_content = self.get_loss_content(T_feats[-1], t)\n",
    "        self.loss_content_hist.append(loss_content.item())\n",
    "\n",
    "        # style loss\n",
    "        loss_style = self.get_loss_style(T_feats, style_feats)\n",
    "        self.loss_style_hist.append(loss_style.item())\n",
    "\n",
    "        # total loss\n",
    "        loss_total = loss_content + self.style_weight * loss_style\n",
    "        \n",
    "        return loss_total, loss_content, loss_style"
   ]
  },
  {
   "cell_type": "markdown",
   "metadata": {},
   "source": [
    "### 3 - Training"
   ]
  },
  {
   "cell_type": "markdown",
   "metadata": {},
   "source": [
    "#### 3.1 - Initialize the network"
   ]
  },
  {
   "cell_type": "code",
   "execution_count": 13,
   "metadata": {
    "execution": {
     "iopub.execute_input": "2023-02-10T13:30:37.441551Z",
     "iopub.status.busy": "2023-02-10T13:30:37.441326Z",
     "iopub.status.idle": "2023-02-10T13:30:38.020479Z",
     "shell.execute_reply": "2023-02-10T13:30:38.019640Z",
     "shell.execute_reply.started": "2023-02-10T13:30:37.441532Z"
    }
   },
   "outputs": [],
   "source": [
    "encoder = huang_utils.build_encoder('vgg_normalised.pth')\n",
    "decoder = huang_utils.build_decoder()\n",
    "\n",
    "style_weight = 1e-1\n",
    "\n",
    "network = HuangNet_train(encoder, decoder, style_weight=style_weight)"
   ]
  },
  {
   "cell_type": "markdown",
   "metadata": {},
   "source": [
    "#### 3.2 - Training settings"
   ]
  },
  {
   "cell_type": "code",
   "execution_count": 14,
   "metadata": {
    "execution": {
     "iopub.execute_input": "2023-02-10T13:30:38.022304Z",
     "iopub.status.busy": "2023-02-10T13:30:38.021920Z",
     "iopub.status.idle": "2023-02-10T13:30:39.361869Z",
     "shell.execute_reply": "2023-02-10T13:30:39.361169Z",
     "shell.execute_reply.started": "2023-02-10T13:30:38.022285Z"
    }
   },
   "outputs": [],
   "source": [
    "# number of iterations\n",
    "n_iter = 1000\n",
    "\n",
    "# learning rate\n",
    "lr = 1e-4\n",
    "\n",
    "# optimizer\n",
    "optimizer = torch.optim.Adam(network.decoder.parameters(), lr=lr, betas=(0.9, 0.9))\n",
    "\n",
    "# learning rate scheduler\n",
    "scheduler = torch.optim.lr_scheduler.ReduceLROnPlateau(optimizer, mode='min', patience=100)\n",
    "\n",
    "# move the network to the selected device\n",
    "network.to(device);"
   ]
  },
  {
   "cell_type": "markdown",
   "metadata": {},
   "source": [
    "#### 3.3 - Training loop"
   ]
  },
  {
   "cell_type": "code",
   "execution_count": 15,
   "metadata": {
    "execution": {
     "iopub.execute_input": "2023-02-10T13:30:39.362968Z",
     "iopub.status.busy": "2023-02-10T13:30:39.362760Z",
     "iopub.status.idle": "2023-02-10T13:41:36.282915Z",
     "shell.execute_reply": "2023-02-10T13:41:36.281815Z",
     "shell.execute_reply.started": "2023-02-10T13:30:39.362948Z"
    }
   },
   "outputs": [
    {
     "name": "stderr",
     "output_type": "stream",
     "text": [
      "NST-AdaIN Training: 100%|██████████| 1000/1000 [10:56<00:00,  1.52it/s, content loss=0.558, style loss=0.528, learning rate=1e-5] \n"
     ]
    }
   ],
   "source": [
    "# set train mode for the network\n",
    "network.train()\n",
    "\n",
    "# training loop\n",
    "with tqdm(total=n_iter, desc='NST-AdaIN Training') as pbar:\n",
    "    \n",
    "    for i in range(n_iter):\n",
    "        \n",
    "        try:\n",
    "            content_batch = next(content_iter)\n",
    "        except StopIteration:\n",
    "            content_iter  = iter(content_dataloader)\n",
    "            content_batch = next(content_iter)\n",
    "        \n",
    "        try:\n",
    "            style_batch = next(style_iter)\n",
    "        except StopIteration:\n",
    "            style_iter  = iter(style_dataloader)\n",
    "            style_batch = next(style_iter)\n",
    "        \n",
    "        # move images to the proper device\n",
    "        content_batch = content_batch.to(device)\n",
    "        style_batch   = style_batch.to(device)\n",
    "        \n",
    "        # evaluate loss\n",
    "        loss_total, loss_content, loss_style = network(content_batch, style_batch)\n",
    "\n",
    "        # backward pass\n",
    "        optimizer.zero_grad()\n",
    "        loss_total.backward()\n",
    "        optimizer.step()\n",
    "        scheduler.step(loss_total)\n",
    "\n",
    "        # progress bar update\n",
    "        pbar.update()\n",
    "        pbar.set_postfix({'content loss': loss_content.item(), 'style loss': loss_style.item(), 'learning rate': scheduler._last_lr[0]})\n",
    "\n",
    "# save decoder parameters\n",
    "torch.save(decoder.state_dict(), f'decoder_b{batch_size}.pth')"
   ]
  },
  {
   "cell_type": "code",
   "execution_count": 16,
   "metadata": {
    "execution": {
     "iopub.execute_input": "2023-02-10T13:41:36.285027Z",
     "iopub.status.busy": "2023-02-10T13:41:36.284740Z",
     "iopub.status.idle": "2023-02-10T13:41:36.602413Z",
     "shell.execute_reply": "2023-02-10T13:41:36.601710Z",
     "shell.execute_reply.started": "2023-02-10T13:41:36.284994Z"
    }
   },
   "outputs": [
    {
     "data": {
      "image/png": "[encoded data removed]",
      "text/plain": [
       "<Figure size 576x360 with 1 Axes>"
      ]
     },
     "metadata": {
      "needs_background": "light"
     },
     "output_type": "display_data"
    }
   ],
   "source": [
    "_, ax = plt.subplots(figsize=(8,5))\n",
    "ax.plot(network.loss_content_hist, label='content', color='red',  linewidth=.5)\n",
    "ax.plot(network.loss_style_hist,   label='style',   color='blue', linewidth=.5)\n",
    "ax.set_xlabel('iteration')\n",
    "ax.set_ylabel('loss')\n",
    "ax.grid(alpha=.5)\n",
    "ax.legend(edgecolor='black', facecolor='linen')\n",
    "plt.tight_layout()\n",
    "plt.show()\n",
    "#plt.savefig(f'huang_train_b{batch_size}.pdf')"
   ]
  },
  {
   "cell_type": "markdown",
   "metadata": {},
   "source": [
    "## **References**\n",
    "- [Arbitrary Style Transfer in Real-time with Adaptive Instance Normalization](https://openaccess.thecvf.com/content_ICCV_2017/papers/Huang_Arbitrary_Style_Transfer_ICCV_2017_paper.pdf) | Paper\n",
    "- [Neural Transfer Using PyTorch](https://pytorch.org/tutorials/advanced/neural_style_tutorial.html) | PyTorch\n",
    "- [Neural Style Transfer with AdaIN](https://keras.io/examples/generative/adain) | Keras\n",
    "- [AdaIN-style](https://github.com/xunhuang1995/AdaIN-style) | GitHub"
   ]
  },
  {
   "cell_type": "markdown",
   "metadata": {},
   "source": [
    "***\n",
    "Code by *Daniele Ninni*, last review: 10 February 2023, at 14:30"
   ]
  }
 ],
 "metadata": {
  "kernelspec": {
   "display_name": "Python 3 (ipykernel)",
   "language": "python",
   "name": "python3"
  },
  "language_info": {
   "codemirror_mode": {
    "name": "ipython",
    "version": 3
   },
   "file_extension": ".py",
   "mimetype": "text/x-python",
   "name": "python",
   "nbconvert_exporter": "python",
   "pygments_lexer": "ipython3",
   "version": "3.9.13"
  },
  "vscode": {
   "interpreter": {
    "hash": "626d0047505abc06a0c2f3728c28903cee7240e0dbffbe631802f99c15687a16"
   }
  }
 },
 "nbformat": 4,
 "nbformat_minor": 4
}
